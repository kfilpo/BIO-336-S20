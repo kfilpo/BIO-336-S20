{
 "cells": [
  {
   "cell_type": "code",
   "execution_count": 10,
   "metadata": {},
   "outputs": [],
   "source": [
    "import numpy as np\n",
    "import matplotlib as plt"
   ]
  },
  {
   "cell_type": "code",
   "execution_count": 22,
   "metadata": {},
   "outputs": [
    {
     "name": "stdout",
     "output_type": "stream",
     "text": [
      "A graph of 6nodes:\n",
      "0:[1, 2]\n",
      "1:[0]\n",
      "2:[0]\n",
      "3:[4]\n",
      "4:[3, 5]\n",
      "5:[4]\n",
      "\n"
     ]
    }
   ],
   "source": [
    "class Graph():\n",
    "    def __init__(self):\n",
    "        self.gdict = {}\n",
    "         \n",
    "    def add_node(self, node):\n",
    "        if node not in self.gdict:\n",
    "            self.gdict[node] = []\n",
    "            #self.nodes.append(node)\n",
    "    \n",
    "    def add_edge(self, node1, node2):\n",
    "        self.add_node(node1)\n",
    "        self.add_node(node2)\n",
    "        if node2 not in self.gdict[node1]:\n",
    "            self.gdict[node1].append(node2)\n",
    "        if node1 not in self.gdict[node2]:\n",
    "            self.gdict[node2].append(node1)\n",
    "            \n",
    "    def __str__(self):\n",
    "        out = 'A graph of ' + str(len(self.gdict)) + 'nodes:\\n'\n",
    "        for node in self.gdict:\n",
    "            out += str(node) + \":\" +str(self.gdict[node]) + '\\n'\n",
    "        return out    #str(self.gdict)\n",
    "\n",
    "\n",
    "g = Graph()\n",
    "g.add_edge(0,1)\n",
    "g.add_edge(0,2)\n",
    "g.add_edge(3,4)\n",
    "g.add_edge(4,5)\n",
    "print(g)"
   ]
  },
  {
   "cell_type": "code",
   "execution_count": null,
   "metadata": {},
   "outputs": [],
   "source": []
  },
  {
   "cell_type": "code",
   "execution_count": null,
   "metadata": {},
   "outputs": [],
   "source": []
  }
 ],
 "metadata": {
  "kernelspec": {
   "display_name": "Python 3",
   "language": "python",
   "name": "python3"
  },
  "language_info": {
   "codemirror_mode": {
    "name": "ipython",
    "version": 3
   },
   "file_extension": ".py",
   "mimetype": "text/x-python",
   "name": "python",
   "nbconvert_exporter": "python",
   "pygments_lexer": "ipython3",
   "version": "3.7.4"
  }
 },
 "nbformat": 4,
 "nbformat_minor": 2
}
