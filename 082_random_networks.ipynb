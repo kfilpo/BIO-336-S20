{
 "cells": [
  {
   "cell_type": "code",
   "execution_count": 20,
   "metadata": {},
   "outputs": [],
   "source": [
    "import numpy as np\n",
    "import matplotlib as plt\n",
    "import networkx as nx"
   ]
  },
  {
   "cell_type": "code",
   "execution_count": 28,
   "metadata": {},
   "outputs": [
    {
     "name": "stdout",
     "output_type": "stream",
     "text": [
      "Nodes: [0, 1, 2, 3, 4, 5]\n",
      "Edges: [(0, 1), (0, 2), (3, 4), (4, 5)]\n"
     ]
    }
   ],
   "source": [
    "class Graph():\n",
    "    def __init__(self):\n",
    "        self.gdict = {}\n",
    "         \n",
    "    def add_node(self, node):\n",
    "        if node not in self.gdict:\n",
    "            self.gdict[node] = []\n",
    "            #self.nodes.append(node)\n",
    "    \n",
    "    def add_edge(self, node1, node2):\n",
    "        self.add_node(node1)\n",
    "        self.add_node(node2)\n",
    "        if node2 not in self.gdict[node1]:\n",
    "            self.gdict[node1].append(node2)\n",
    "        if node1 not in self.gdict[node2]:\n",
    "            self.gdict[node2].append(node1)\n",
    "            \n",
    "    def nodes(self):\n",
    "        \"\"\"Returns a list of nodes,\"\"\"\n",
    "        return list(self.gdict.keys())\n",
    "        \n",
    "    def edges(self):\n",
    "        \"\"\"Returns a list of edges,\"\"\"\n",
    "        out = []\n",
    "        for node,links in self.gdict.items():\n",
    "            for link in links:\n",
    "                if link>node:\n",
    "                    out.append((node,link))\n",
    "        return out\n",
    "        \n",
    "    def __str__(self):\n",
    "        out = 'A graph of ' + str(len(self.gdict)) + ' nodes:\\n'\n",
    "        for node in self.gdict:\n",
    "            out += str(node) + \":\" +str(self.gdict[node]) + '\\n'\n",
    "        return out    #str(self.gdict)\n",
    "\n",
    "\n",
    "g = Graph()\n",
    "g.add_edge(0,1)\n",
    "g.add_edge(0,2)\n",
    "g.add_edge(3,4)\n",
    "g.add_edge(4,5)\n",
    "#print(g)\n",
    "print(\"Nodes:\", g.nodes())\n",
    "print(\"Edges:\", g.edges())"
   ]
  },
  {
   "cell_type": "code",
   "execution_count": 29,
   "metadata": {},
   "outputs": [
    {
     "name": "stdout",
     "output_type": "stream",
     "text": [
      "A graph of 10 nodes:\n",
      "0:[7]\n",
      "1:[3, 7, 6]\n",
      "2:[4]\n",
      "3:[4, 1]\n",
      "4:[3, 2]\n",
      "5:[8, 6]\n",
      "6:[8, 1, 5]\n",
      "7:[1, 0]\n",
      "8:[6, 5]\n",
      "9:[]\n",
      "\n"
     ]
    }
   ],
   "source": [
    "N_NODES = 10\n",
    "N_EDGES = N_NODES\n",
    "\n",
    "g = Graph()\n",
    "for i in range(N_NODES):\n",
    "    g.add_node(i)\n",
    "    \n",
    "edges = []\n",
    "while len(edges) <N_EDGES:\n",
    "    n1 = np.random.randint(low = 0, high = N_NODES)\n",
    "    n2 = np.random.randint(low = 0, high = N_NODES)\n",
    "    if n2<n1:\n",
    "        n1,n2 = n2,n1\n",
    "    \n",
    "    if new_edge not in edges and n1!=n2:\n",
    "        g.add_edge(n1,n2)\n",
    "        edges.append((n1,n2))\n",
    "    \n",
    "print(g)"
   ]
  },
  {
   "cell_type": "code",
   "execution_count": 23,
   "metadata": {},
   "outputs": [],
   "source": [
    "g_nx = nx.Graph()\n",
    "g_nx.add_nodes_from(g.nodes())\n",
    "g_nx.add_edges_from(g.edges())"
   ]
  },
  {
   "cell_type": "code",
   "execution_count": null,
   "metadata": {},
   "outputs": [],
   "source": []
  }
 ],
 "metadata": {
  "kernelspec": {
   "display_name": "Python 3",
   "language": "python",
   "name": "python3"
  },
  "language_info": {
   "codemirror_mode": {
    "name": "ipython",
    "version": 3
   },
   "file_extension": ".py",
   "mimetype": "text/x-python",
   "name": "python",
   "nbconvert_exporter": "python",
   "pygments_lexer": "ipython3",
   "version": "3.7.4"
  }
 },
 "nbformat": 4,
 "nbformat_minor": 2
}
