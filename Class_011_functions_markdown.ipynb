{
 "cells": [
  {
   "cell_type": "markdown",
   "metadata": {},
   "source": [
    "# Class 2 Notes"
   ]
  },
  {
   "cell_type": "code",
   "execution_count": 2,
   "metadata": {},
   "outputs": [
    {
     "name": "stdout",
     "output_type": "stream",
     "text": [
      "I have a cat named Miso\n",
      "I have a cat named Mish\n"
     ]
    }
   ],
   "source": [
    "#Notes on Functions\n",
    "\n",
    "#Fuctions that don't retrurn anything, void functions like print \n",
    "\n",
    "print(\"I have a cat named Miso\")\n",
    "print(\"I have a cat named Mish\")"
   ]
  },
  {
   "cell_type": "code",
   "execution_count": 9,
   "metadata": {},
   "outputs": [
    {
     "name": "stdout",
     "output_type": "stream",
     "text": [
      "I have a cat named miso that I love and miss so much\n",
      "I have a cat named cat that I love and miss so much\n"
     ]
    }
   ],
   "source": [
    "def express_love(name=\"cat\"): #default value \n",
    "    print(\"I have a cat named\", name, \"that I love and miss so much\")\n",
    "    \n",
    "express_love(\"miso\")\n",
    "express_love()"
   ]
  },
  {
   "cell_type": "code",
   "execution_count": 12,
   "metadata": {},
   "outputs": [
    {
     "name": "stdout",
     "output_type": "stream",
     "text": [
      "I have a cat named miso that I love and miss so much\n",
      "glory to all livng things\n"
     ]
    }
   ],
   "source": [
    "def express_love_part_two(name=None): #default value \n",
    "    \"\"\"\"Express love to all creations, or a cat\"\"\" \n",
    "    #this ^ is a docstring and you should do it \n",
    "    if name is None:\n",
    "        print(\"glory to all livng things\")\n",
    "    else:\n",
    "        print(\"I have a cat named\", name, \"that I love and miss so much\")\n",
    "    \n",
    "express_love_part_two(\"miso\")\n",
    "express_love_part_two()"
   ]
  },
  {
   "cell_type": "code",
   "execution_count": 14,
   "metadata": {},
   "outputs": [
    {
     "name": "stdout",
     "output_type": "stream",
     "text": [
      "['miso', 'mish', 'kitty', 'noodle']\n",
      "I have a cat named miso that I love and miss so much\n",
      "I have a cat named mish that I love and miss so much\n",
      "I have a cat named kitty that I love and miss so much\n",
      "I have a cat named noodle that I love and miss so much\n"
     ]
    }
   ],
   "source": [
    "names = ['miso', 'mish', 'kitty', 'noodle']\n",
    "print(names)\n",
    "\n",
    "for name in names:\n",
    "    express_love_part_two(name)\n",
    "    "
   ]
  },
  {
   "cell_type": "code",
   "execution_count": 15,
   "metadata": {},
   "outputs": [
    {
     "data": {
      "text/plain": [
       "4"
      ]
     },
     "execution_count": 15,
     "metadata": {},
     "output_type": "execute_result"
    }
   ],
   "source": [
    "#Functions that do something and return \n",
    "\n",
    "len(names) #takes somthing to return length"
   ]
  },
  {
   "cell_type": "code",
   "execution_count": 17,
   "metadata": {},
   "outputs": [
    {
     "name": "stdout",
     "output_type": "stream",
     "text": [
      "14\n",
      "5\n"
     ]
    }
   ],
   "source": [
    "def my_calculation(x):   #we want no default here \n",
    "    \"\"\"calculates this vgery important formula\"\"\"\n",
    "    return x**2+5\n",
    "\n",
    "print(my_calculation(3))\n",
    "print(my_calculation(0))\n",
    "    "
   ]
  },
  {
   "cell_type": "markdown",
   "metadata": {},
   "source": [
    "# Markdown text\n",
    "\n",
    "When you write you get text! press M to start it \n",
    "\n",
    "Skip line for a new paragraph\n",
    "\n",
    "* to do a bullet point list\n",
    "* use use asterisks and a space\n",
    "\n",
    "To make a link, you write [the word in square brakets](http://google.com), followed by alink in round parentheses\n",
    "\n",
    "## Second level title\n",
    "\n",
    "### third level title\n",
    "\n",
    "two fancy things. \n",
    "\n",
    "One, if you want to make your text about coding, you can put key words in reverse quotation marks and it would look like this: `print(4)` and `5+5=10`. \n",
    "\n",
    "Two, math things, snippets of LaTex : $5+5=10$ and $\\sum _{i=0}^{\\inf} \\sqrt{1/(n+1)} $\n",
    "\n",
    "to make the math bigger:\n",
    "$\\displaystyle 1+1=2$ "
   ]
  },
  {
   "cell_type": "code",
   "execution_count": null,
   "metadata": {},
   "outputs": [],
   "source": []
  }
 ],
 "metadata": {
  "kernelspec": {
   "display_name": "Python 3",
   "language": "python",
   "name": "python3"
  },
  "language_info": {
   "codemirror_mode": {
    "name": "ipython",
    "version": 3
   },
   "file_extension": ".py",
   "mimetype": "text/x-python",
   "name": "python",
   "nbconvert_exporter": "python",
   "pygments_lexer": "ipython3",
   "version": "3.7.4"
  }
 },
 "nbformat": 4,
 "nbformat_minor": 2
}
