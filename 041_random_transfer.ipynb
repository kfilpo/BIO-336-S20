{
 "cells": [
  {
   "cell_type": "markdown",
   "metadata": {},
   "source": [
    "# random asset exchange model"
   ]
  },
  {
   "cell_type": "code",
   "execution_count": 1,
   "metadata": {},
   "outputs": [],
   "source": [
    "import numpy as np\n",
    "import matplotlib.pyplot as plt"
   ]
  },
  {
   "cell_type": "code",
   "execution_count": 2,
   "metadata": {},
   "outputs": [
    {
     "data": {
      "image/png": "[encoded data removed]",
      "text/plain": [
       "<Figure size 432x288 with 1 Axes>"
      ]
     },
     "metadata": {
      "needs_background": "light"
     },
     "output_type": "display_data"
    }
   ],
   "source": [
    "#basic plot\n",
    "nsteps = 10000\n",
    "npeople = 100\n",
    "wealth = np.ones(npeople)\n",
    "coin = 0.1\n",
    "\n",
    "for t in range(nsteps):\n",
    "    p1 = np.random.randint(low = 0, high = npeople)\n",
    "    p2 = np.random.randint(low = 0, high = npeople)\n",
    "    if(wealth[p1])>0:\n",
    "        wealth[p1] -= coin\n",
    "        wealth[p2] += coin\n",
    "        \n",
    "plt.hist(wealth);\n",
    "plt.xlabel(\"wealth\");\n",
    "plt.ylabel(\"people with that wealth\");"
   ]
  },
  {
   "cell_type": "code",
   "execution_count": 3,
   "metadata": {},
   "outputs": [],
   "source": [
    "def gini(x):\n",
    "    y = np.sort(x) # We need to sort them by wealth\n",
    "    upper_sum = 0\n",
    "    n = len(x)\n",
    "    for i in range(n):\n",
    "        upper_sum += (i+1)*y[i]\n",
    "    return 1-2/(n-1)*( n - upper_sum/sum(y) )"
   ]
  },
  {
   "cell_type": "markdown",
   "metadata": {},
   "source": [
    "Add taxation, with the \"strength\" of this taxation encoded as one value. We want an easy way to change it; something like \"effective tax rate\". I recommend that you implement the Universal Basic Income system, and proportional taxation (because progressive taxation is harder), but you are welcome to code your model if you want to. Just don't make it too complicated, and make sure it all boils down to one \"knob\" of \"more taxes\" / \"less taxes\".\n",
    "\n",
    "Play with different taxation strengths. Look at the evolution of Gini index, and at curves for poorest and riches people. Make sure that it all makes sense.\n",
    "\n",
    "Make sure that with knob at 0, you get the same results as with \"no taxes\".\n",
    "\n",
    "Once everything seems to be working, go meta (as we did for predator-prey), and put your model into an outer loop. Go through various levels of tax rate; for each value look at the final (only final, not intermediate) Gini index value. Plot \"Final equality as a function of tax rate\" plot."
   ]
  },
  {
   "cell_type": "code",
   "execution_count": null,
   "metadata": {},
   "outputs": [],
   "source": []
  },
  {
   "cell_type": "code",
   "execution_count": 24,
   "metadata": {},
   "outputs": [
    {
     "ename": "TypeError",
     "evalue": "'float' object cannot be interpreted as an integer",
     "output_type": "error",
     "traceback": [
      "\u001b[0;31m---------------------------------------------------------------------------\u001b[0m",
      "\u001b[0;31mTypeError\u001b[0m                                 Traceback (most recent call last)",
      "\u001b[0;32m<ipython-input-24-4d31f4afc79a>\u001b[0m in \u001b[0;36m<module>\u001b[0;34m\u001b[0m\n\u001b[1;32m      9\u001b[0m \u001b[0mgini_history\u001b[0m \u001b[0;34m=\u001b[0m \u001b[0mnp\u001b[0m\u001b[0;34m.\u001b[0m\u001b[0mzeros\u001b[0m\u001b[0;34m(\u001b[0m\u001b[0mnsteps\u001b[0m\u001b[0;34m)\u001b[0m\u001b[0;34m\u001b[0m\u001b[0;34m\u001b[0m\u001b[0m\n\u001b[1;32m     10\u001b[0m \u001b[0;34m\u001b[0m\u001b[0m\n\u001b[0;32m---> 11\u001b[0;31m \u001b[0;32mfor\u001b[0m \u001b[0mtax_rate\u001b[0m \u001b[0;32min\u001b[0m \u001b[0mrange\u001b[0m\u001b[0;34m(\u001b[0m\u001b[0;36m0.01\u001b[0m\u001b[0;34m,\u001b[0m \u001b[0;36m1.1\u001b[0m\u001b[0;34m,\u001b[0m \u001b[0;36m0.1\u001b[0m\u001b[0;34m)\u001b[0m\u001b[0;34m:\u001b[0m\u001b[0;34m\u001b[0m\u001b[0;34m\u001b[0m\u001b[0m\n\u001b[0m\u001b[1;32m     12\u001b[0m     \u001b[0;32mfor\u001b[0m \u001b[0mt\u001b[0m \u001b[0;32min\u001b[0m \u001b[0mrange\u001b[0m\u001b[0;34m(\u001b[0m\u001b[0;36m1\u001b[0m\u001b[0;34m,\u001b[0m \u001b[0mnsteps\u001b[0m\u001b[0;34m)\u001b[0m\u001b[0;34m:\u001b[0m\u001b[0;34m\u001b[0m\u001b[0;34m\u001b[0m\u001b[0m\n\u001b[1;32m     13\u001b[0m         \u001b[0mtax_hold\u001b[0m \u001b[0;34m=\u001b[0m \u001b[0;36m0\u001b[0m         \u001b[0;31m#tax should reset at every time step but not for every person\u001b[0m\u001b[0;34m\u001b[0m\u001b[0;34m\u001b[0m\u001b[0m\n",
      "\u001b[0;31mTypeError\u001b[0m: 'float' object cannot be interpreted as an integer"
     ]
    }
   ],
   "source": [
    "#history\n",
    "nsteps = 100\n",
    "npeople = 100\n",
    "trade_per_step = 10\n",
    "interest = 0.001\n",
    "coin = 0.1\n",
    "\n",
    "wealth = np.ones(shape=(nsteps, npeople))\n",
    "gini_history = np.zeros(nsteps)\n",
    "\n",
    "for tax_rate in range(0.01, 1.1, 0.1):\n",
    "    for t in range(1, nsteps):\n",
    "        tax_hold = 0         #tax should reset at every time step but not for every person\n",
    "        tax_hold = tax_hold + (wealth[t,:] *(tax_rate))\n",
    "        universal_income = tax_hold/npeople\n",
    "        wealth[t,:] = (wealth[t-1,:] *(1+interest)) - (wealth[t,:] *(tax_rate)) + universal_income\n",
    "        for i in range(trade_per_step):\n",
    "            p1 = np.random.randint(low = 0, high = npeople)\n",
    "            p2 = np.random.randint(low = 0, high = npeople)\n",
    "            if(wealth[t,p1])>0:\n",
    "                wealth[t,p1] = wealth[t-1,p1] - coin \n",
    "                wealth[t,p2] = wealth[t-1,p2] + coin\n",
    "        gini_history[t] = gini(wealth[t,:]) \n",
    "    \n",
    "#print(wealth)\n",
    "    \n",
    "plt.figure(figsize=(15,3));\n",
    "plt.subplot(1,3,1);\n",
    "plt.hist(wealth[:,0]);\n",
    "plt.xlabel('Wealth');\n",
    "plt.ylabel('Count');\n",
    "\n",
    "plt.subplot(1,3,2);\n",
    "#plt.plot(wealth[-1,:]);\n",
    "poor_one = np.argmin(wealth[-1,:]);\n",
    "rich_one = np.argmax(wealth[-1,:]);\n",
    "plt.plot(wealth[:,poor_one]);\n",
    "plt.plot(wealth[:,rich_one]);\n",
    "plt.xlabel('Timestep');\n",
    "plt.ylabel('Wealth');\n",
    "\n",
    "plt.subplot(1,3,3)\n",
    "plt.plot(gini_history);\n",
    "plt.xlabel('Time');\n",
    "plt.ylabel('Gini index');\n"
   ]
  },
  {
   "cell_type": "code",
   "execution_count": null,
   "metadata": {},
   "outputs": [],
   "source": []
  },
  {
   "cell_type": "code",
   "execution_count": null,
   "metadata": {},
   "outputs": [],
   "source": []
  },
  {
   "cell_type": "code",
   "execution_count": null,
   "metadata": {},
   "outputs": [],
   "source": []
  },
  {
   "cell_type": "code",
   "execution_count": null,
   "metadata": {},
   "outputs": [],
   "source": []
  },
  {
   "cell_type": "code",
   "execution_count": null,
   "metadata": {},
   "outputs": [],
   "source": []
  }
 ],
 "metadata": {
  "kernelspec": {
   "display_name": "Python 3",
   "language": "python",
   "name": "python3"
  },
  "language_info": {
   "codemirror_mode": {
    "name": "ipython",
    "version": 3
   },
   "file_extension": ".py",
   "mimetype": "text/x-python",
   "name": "python",
   "nbconvert_exporter": "python",
   "pygments_lexer": "ipython3",
   "version": "3.7.4"
  }
 },
 "nbformat": 4,
 "nbformat_minor": 2
}
