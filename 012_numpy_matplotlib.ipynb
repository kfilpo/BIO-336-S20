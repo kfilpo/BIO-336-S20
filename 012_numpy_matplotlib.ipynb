{
 "cells": [
  {
   "cell_type": "markdown",
   "metadata": {},
   "source": [
    "# Numpy and Matplotlib\n",
    "\n",
    "First of all, to use libries, one needs to import them, and it is done at the beginning of the script/notebook."
   ]
  },
  {
   "cell_type": "code",
   "execution_count": 4,
   "metadata": {},
   "outputs": [],
   "source": [
    "import numpy as np\n",
    "import matplotlib.pyplot as plt"
   ]
  },
  {
   "cell_type": "code",
   "execution_count": null,
   "metadata": {},
   "outputs": [],
   "source": []
  },
  {
   "cell_type": "code",
   "execution_count": 2,
   "metadata": {},
   "outputs": [
    {
     "data": {
      "text/plain": [
       "3.0"
      ]
     },
     "execution_count": 2,
     "metadata": {},
     "output_type": "execute_result"
    }
   ],
   "source": [
    "np.sqrt(9)"
   ]
  },
  {
   "cell_type": "markdown",
   "metadata": {},
   "source": [
    "Before we stat, it is important to know tha the difference between numpy and lists"
   ]
  },
  {
   "cell_type": "code",
   "execution_count": 7,
   "metadata": {},
   "outputs": [
    {
     "name": "stdout",
     "output_type": "stream",
     "text": [
      "[1, 2, 3]\n",
      "2\n",
      "[1, 2, 3, 1, 2, 3]\n",
      "[1, 2, 3, 1, 2, 3, 1, 2, 3]\n"
     ]
    }
   ],
   "source": [
    "#Yes you can put strings into a numpy array, \n",
    "\n",
    "#Let's create a list, and add to the list\n",
    "a=[1,2,3]\n",
    "print(a)\n",
    "\n",
    "print(a[1])\n",
    "\n",
    "# print(a+1) is NOT possible to do, returns type error \n",
    "\n",
    "print(a+a) #is possible, concatenates the lists \n",
    "\n",
    "#a consequence of that is that you can kinda multiply lists, but it actuallu repeats them\n",
    "print(a*3)"
   ]
  },
  {
   "cell_type": "code",
   "execution_count": 13,
   "metadata": {},
   "outputs": [
    {
     "name": "stdout",
     "output_type": "stream",
     "text": [
      "[1 2 3]\n",
      "2\n",
      "[11 12 13]\n",
      "[ 5 10 15]\n",
      "[2 4 6]\n"
     ]
    }
   ],
   "source": [
    "#for math, we'll be using numpy arrays \n",
    "\n",
    "b = np.array([1,2,3])\n",
    "print(b)\n",
    "\n",
    "print(b[1]) #just like a list\n",
    "\n",
    "print(b+10) #NOT like a list, it adds to every elemet\n",
    "\n",
    "print(b*5) #not like a list it multiplies every element\n",
    "\n",
    "print(b+b) #can also add two arrays together\n",
    "\n",
    "#print(b + np.arrat([1,2])) does NOT work as you cannot interpret it \n",
    "\n",
    "#most functions can be called on a vector like that (array), and they are applied to every element"
   ]
  },
  {
   "cell_type": "code",
   "execution_count": 25,
   "metadata": {},
   "outputs": [
    {
     "data": {
      "image/png": "[encoded data removed]",
      "text/plain": [
       "<Figure size 360x360 with 1 Axes>"
      ]
     },
     "metadata": {
      "needs_background": "light"
     },
     "output_type": "display_data"
    }
   ],
   "source": [
    "#let's try to plot something!\n",
    "\n",
    "x = np.arange(start=0, stop=10, step=0.2) #this creates 10 numbers 0 to 9, alse we used named args here \n",
    "#print(x)\n",
    "plt.figure(figsize=(5,5))  #it creates a figure. (5,5) here is a tuple, a data type. \n",
    "plt.plot(x, np.sin(x)+x/5); #; suppresses the output for the onjects, looks neater\n",
    "plt.xlabel('Something something');\n",
    "plt.ylabel('Something else');\n",
    "plt.plot(x, np.sqrt(x), 'r.-');"
   ]
  },
  {
   "cell_type": "markdown",
   "metadata": {},
   "source": [
    "# Birthday exercise\n",
    "\n",
    "1) for loop\n",
    "\n",
    "2) inside (----) update value,\n",
    "\n",
    "3) create hp.array, save all p(n)\n",
    "\n",
    "4) plot them \n"
   ]
  },
  {
   "cell_type": "code",
   "execution_count": 6,
   "metadata": {},
   "outputs": [
    {
     "ename": "ValueError",
     "evalue": "maximum supported dimension for an ndarray is 32, found 366",
     "output_type": "error",
     "traceback": [
      "\u001b[0;31m---------------------------------------------------------------------------\u001b[0m",
      "\u001b[0;31mValueError\u001b[0m                                Traceback (most recent call last)",
      "\u001b[0;32m<ipython-input-6-a5a3655352ff>\u001b[0m in \u001b[0;36m<module>\u001b[0;34m\u001b[0m\n\u001b[1;32m      1\u001b[0m \u001b[0mn\u001b[0m \u001b[0;34m=\u001b[0m \u001b[0mnp\u001b[0m\u001b[0;34m.\u001b[0m\u001b[0mzeros\u001b[0m\u001b[0;34m(\u001b[0m\u001b[0;36m366\u001b[0m\u001b[0;34m)\u001b[0m\u001b[0;34m\u001b[0m\u001b[0;34m\u001b[0m\u001b[0m\n\u001b[0;32m----> 2\u001b[0;31m \u001b[0mp\u001b[0m \u001b[0;34m=\u001b[0m \u001b[0mnp\u001b[0m\u001b[0;34m.\u001b[0m\u001b[0mzeros\u001b[0m\u001b[0;34m(\u001b[0m\u001b[0mn\u001b[0m\u001b[0;34m)\u001b[0m \u001b[0;31m#probability of NOT having a matching birthday\u001b[0m\u001b[0;34m\u001b[0m\u001b[0;34m\u001b[0m\u001b[0m\n\u001b[0m\u001b[1;32m      3\u001b[0m \u001b[0mp\u001b[0m\u001b[0;34m[\u001b[0m\u001b[0;36m0\u001b[0m\u001b[0;34m]\u001b[0m \u001b[0;34m=\u001b[0m \u001b[0;36m1\u001b[0m\u001b[0;34m\u001b[0m\u001b[0;34m\u001b[0m\u001b[0m\n\u001b[1;32m      4\u001b[0m \u001b[0mp\u001b[0m\u001b[0;34m[\u001b[0m\u001b[0;36m1\u001b[0m\u001b[0;34m]\u001b[0m\u001b[0;34m=\u001b[0m \u001b[0;36m1\u001b[0m \u001b[0;31m#for 1 person, not having a matching person is 1,\u001b[0m\u001b[0;34m\u001b[0m\u001b[0;34m\u001b[0m\u001b[0m\n\u001b[1;32m      5\u001b[0m \u001b[0;34m\u001b[0m\u001b[0m\n",
      "\u001b[0;31mValueError\u001b[0m: maximum supported dimension for an ndarray is 32, found 366"
     ]
    }
   ],
   "source": [
    "n = np.zeros(366)\n",
    "p = np.zeros(n) #probability of NOT having a matching birthday\n",
    "p[0] = 1\n",
    "p[1]= 1 #for 1 person, not having a matching person is 1,\n",
    "\n",
    "for i in range(2,n): #the loop will run from 2 to n-1, highest number is n-1\n",
    "    #calculate the probability that this new person will not have a matching bd\n",
    "    #using this new value we calculated ans a value of p[i-1], calculate p[i]\n",
    "    prob = (1-(n/365))*p[n-1]\n",
    "    p[n] = prob\n",
    "    \n",
    "#maximum supported dimension for an ndarray is 32, found 366 -- error got "
   ]
  },
  {
   "cell_type": "code",
   "execution_count": null,
   "metadata": {},
   "outputs": [],
   "source": []
  },
  {
   "cell_type": "code",
   "execution_count": null,
   "metadata": {},
   "outputs": [],
   "source": []
  }
 ],
 "metadata": {
  "kernelspec": {
   "display_name": "Python 3",
   "language": "python",
   "name": "python3"
  },
  "language_info": {
   "codemirror_mode": {
    "name": "ipython",
    "version": 3
   },
   "file_extension": ".py",
   "mimetype": "text/x-python",
   "name": "python",
   "nbconvert_exporter": "python",
   "pygments_lexer": "ipython3",
   "version": "3.7.4"
  }
 },
 "nbformat": 4,
 "nbformat_minor": 2
}
